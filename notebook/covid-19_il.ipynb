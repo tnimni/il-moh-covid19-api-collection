{
 "cells": [
  {
   "cell_type": "code",
   "execution_count": null,
   "metadata": {},
   "outputs": [
    {
     "data": {
      "application/vnd.jupyter.widget-view+json": {
       "model_id": "133a00e97e484694979bbc2145af4c3b",
       "version_major": 2,
       "version_minor": 0
      },
      "text/plain": [
       "HBox(children=(FloatProgress(value=1.0, bar_style='info', max=1.0), HTML(value='')))"
      ]
     },
     "metadata": {},
     "output_type": "display_data"
    },
    {
     "name": "stdout",
     "output_type": "stream",
     "text": [
      "[{'_id': 1, 'date': '2020-03-01T00:00:00', 'isolated_today_contact_with_confirmed': 607, 'isolated_today_abroad': 5699, 'new_contact_with_confirmed': 126, 'new_from_abroad': 1153}, {'_id': 2, 'date': '2020-03-02T00:00:00', 'isolated_today_contact_with_confirmed': 606, 'isolated_today_abroad': 6001, 'new_contact_with_confirmed': 0, 'new_from_abroad': 499}, {'_id': 3, 'date': '2020-03-03T00:00:00', 'isolated_today_contact_with_confirmed': 927, 'isolated_today_abroad': 6179, 'new_contact_with_confirmed': 326, 'new_from_abroad': 453}, {'_id': 4, 'date': '2020-03-04T00:00:00', 'isolated_today_contact_with_confirmed': 1812, 'isolated_today_abroad': 7526, 'new_contact_with_confirmed': 887, 'new_from_abroad': 1678}, {'_id': 5, 'date': '2020-03-05T00:00:00', 'isolated_today_contact_with_confirmed': 2198, 'isolated_today_abroad': 11963, 'new_contact_with_confirmed': 388, 'new_from_abroad': 4879}, {'_id': 6, 'date': '2020-03-06T00:00:00', 'isolated_today_contact_with_confirmed': 2420, 'isolated_today_abroad': 16549, 'new_contact_with_confirmed': 232, 'new_from_abroad': 5203}, {'_id': 7, 'date': '2020-03-07T00:00:00', 'isolated_today_contact_with_confirmed': 2530, 'isolated_today_abroad': 17570, 'new_contact_with_confirmed': 121, 'new_from_abroad': 1466}, {'_id': 8, 'date': '2020-03-08T00:00:00', 'isolated_today_contact_with_confirmed': 2889, 'isolated_today_abroad': 19229, 'new_contact_with_confirmed': 408, 'new_from_abroad': 2380}, {'_id': 9, 'date': '2020-03-09T00:00:00', 'isolated_today_contact_with_confirmed': 3429, 'isolated_today_abroad': 21373, 'new_contact_with_confirmed': 694, 'new_from_abroad': 3404}, {'_id': 10, 'date': '2020-03-10T00:00:00', 'isolated_today_contact_with_confirmed': 4717, 'isolated_today_abroad': 23633, 'new_contact_with_confirmed': 2184, 'new_from_abroad': 3764}, {'_id': 11, 'date': '2020-03-11T00:00:00', 'isolated_today_contact_with_confirmed': 6491, 'isolated_today_abroad': 26247, 'new_contact_with_confirmed': 2129, 'new_from_abroad': 4044}, {'_id': 12, 'date': '2020-03-12T00:00:00', 'isolated_today_contact_with_confirmed': 8197, 'isolated_today_abroad': 28661, 'new_contact_with_confirmed': 2340, 'new_from_abroad': 3786}, {'_id': 13, 'date': '2020-03-13T00:00:00', 'isolated_today_contact_with_confirmed': 9470, 'isolated_today_abroad': 29767, 'new_contact_with_confirmed': 1550, 'new_from_abroad': 3136}, {'_id': 14, 'date': '2020-03-14T00:00:00', 'isolated_today_contact_with_confirmed': 10800, 'isolated_today_abroad': 30517, 'new_contact_with_confirmed': 1552, 'new_from_abroad': 2255}, {'_id': 15, 'date': '2020-03-15T00:00:00', 'isolated_today_contact_with_confirmed': 15947, 'isolated_today_abroad': 34640, 'new_contact_with_confirmed': 5373, 'new_from_abroad': 6199}, {'_id': 16, 'date': '2020-03-16T00:00:00', 'isolated_today_contact_with_confirmed': 18509, 'isolated_today_abroad': 35741, 'new_contact_with_confirmed': 3103, 'new_from_abroad': 3730}, {'_id': 17, 'date': '2020-03-17T00:00:00', 'isolated_today_contact_with_confirmed': 22126, 'isolated_today_abroad': 37565, 'new_contact_with_confirmed': 5656, 'new_from_abroad': 4971}, {'_id': 18, 'date': '2020-03-18T00:00:00', 'isolated_today_contact_with_confirmed': 27490, 'isolated_today_abroad': 39651, 'new_contact_with_confirmed': 6338, 'new_from_abroad': 4008}, {'_id': 19, 'date': '2020-03-19T00:00:00', 'isolated_today_contact_with_confirmed': 28903, 'isolated_today_abroad': 41915, 'new_contact_with_confirmed': 3756, 'new_from_abroad': 4202}, {'_id': 20, 'date': '2020-03-20T00:00:00', 'isolated_today_contact_with_confirmed': 31165, 'isolated_today_abroad': 44599, 'new_contact_with_confirmed': 4544, 'new_from_abroad': 5107}, {'_id': 21, 'date': '2020-03-21T00:00:00', 'isolated_today_contact_with_confirmed': 32321, 'isolated_today_abroad': 44837, 'new_contact_with_confirmed': 2786, 'new_from_abroad': 1716}, {'_id': 22, 'date': '2020-03-22T00:00:00', 'isolated_today_contact_with_confirmed': 34139, 'isolated_today_abroad': 46446, 'new_contact_with_confirmed': 3718, 'new_from_abroad': 3615}, {'_id': 23, 'date': '2020-03-23T00:00:00', 'isolated_today_contact_with_confirmed': 31332, 'isolated_today_abroad': 46513, 'new_contact_with_confirmed': 2704, 'new_from_abroad': 2728}, {'_id': 24, 'date': '2020-03-24T00:00:00', 'isolated_today_contact_with_confirmed': 28999, 'isolated_today_abroad': 45824, 'new_contact_with_confirmed': 3095, 'new_from_abroad': 2645}, {'_id': 25, 'date': '2020-03-25T00:00:00', 'isolated_today_contact_with_confirmed': 22777, 'isolated_today_abroad': 43981, 'new_contact_with_confirmed': 2784, 'new_from_abroad': 2143}, {'_id': 26, 'date': '2020-03-26T00:00:00', 'isolated_today_contact_with_confirmed': 20717, 'isolated_today_abroad': 42249, 'new_contact_with_confirmed': 2149, 'new_from_abroad': 2836}, {'_id': 27, 'date': '2020-03-27T00:00:00', 'isolated_today_contact_with_confirmed': 15593, 'isolated_today_abroad': 39900, 'new_contact_with_confirmed': 1529, 'new_from_abroad': 2048}, {'_id': 28, 'date': '2020-03-28T00:00:00', 'isolated_today_contact_with_confirmed': 14051, 'isolated_today_abroad': 38061, 'new_contact_with_confirmed': 834, 'new_from_abroad': 601}, {'_id': 29, 'date': '2020-03-29T00:00:00', 'isolated_today_contact_with_confirmed': 13288, 'isolated_today_abroad': 36007, 'new_contact_with_confirmed': 1697, 'new_from_abroad': 985}, {'_id': 30, 'date': '2020-03-30T00:00:00', 'isolated_today_contact_with_confirmed': 12779, 'isolated_today_abroad': 31867, 'new_contact_with_confirmed': 1799, 'new_from_abroad': 378}, {'_id': 31, 'date': '2020-03-31T00:00:00', 'isolated_today_contact_with_confirmed': 12946, 'isolated_today_abroad': 28507, 'new_contact_with_confirmed': 2205, 'new_from_abroad': 485}, {'_id': 32, 'date': '2020-04-01T00:00:00', 'isolated_today_contact_with_confirmed': 13363, 'isolated_today_abroad': 25204, 'new_contact_with_confirmed': 2555, 'new_from_abroad': 181}, {'_id': 33, 'date': '2020-04-02T00:00:00', 'isolated_today_contact_with_confirmed': 12931, 'isolated_today_abroad': 22003, 'new_contact_with_confirmed': 1320, 'new_from_abroad': 264}, {'_id': 34, 'date': '2020-04-03T00:00:00', 'isolated_today_contact_with_confirmed': 12089, 'isolated_today_abroad': 18046, 'new_contact_with_confirmed': 1199, 'new_from_abroad': 433}, {'_id': 35, 'date': '2020-04-04T00:00:00', 'isolated_today_contact_with_confirmed': 11717, 'isolated_today_abroad': 16299, 'new_contact_with_confirmed': 815, 'new_from_abroad': 130}, {'_id': 36, 'date': '2020-04-05T00:00:00', 'isolated_today_contact_with_confirmed': 12485, 'isolated_today_abroad': 13831, 'new_contact_with_confirmed': 1699, 'new_from_abroad': 128}, {'_id': 37, 'date': '2020-04-06T00:00:00', 'isolated_today_contact_with_confirmed': 11936, 'isolated_today_abroad': 11863, 'new_contact_with_confirmed': 1076, 'new_from_abroad': 471}, {'_id': 38, 'date': '2020-04-07T00:00:00', 'isolated_today_contact_with_confirmed': 10915, 'isolated_today_abroad': 9736, 'new_contact_with_confirmed': 711, 'new_from_abroad': 222}, {'_id': 39, 'date': '2020-04-08T00:00:00', 'isolated_today_contact_with_confirmed': 9540, 'isolated_today_abroad': 8402, 'new_contact_with_confirmed': 533, 'new_from_abroad': 161}, {'_id': 40, 'date': '2020-04-09T00:00:00', 'isolated_today_contact_with_confirmed': 7557, 'isolated_today_abroad': 6750, 'new_contact_with_confirmed': 26, 'new_from_abroad': 75}, {'_id': 41, 'date': '2020-04-10T00:00:00', 'isolated_today_contact_with_confirmed': 6959, 'isolated_today_abroad': 4270, 'new_contact_with_confirmed': 1202, 'new_from_abroad': 29}, {'_id': 42, 'date': '2020-04-11T00:00:00', 'isolated_today_contact_with_confirmed': 6553, 'isolated_today_abroad': 3218, 'new_contact_with_confirmed': 438, 'new_from_abroad': 60}, {'_id': 43, 'date': '2020-04-12T00:00:00', 'isolated_today_contact_with_confirmed': 7038, 'isolated_today_abroad': 2975, 'new_contact_with_confirmed': 1029, 'new_from_abroad': 53}, {'_id': 44, 'date': '2020-04-13T00:00:00', 'isolated_today_contact_with_confirmed': 6425, 'isolated_today_abroad': 2285, 'new_contact_with_confirmed': 701, 'new_from_abroad': 42}, {'_id': 45, 'date': '2020-04-14T00:00:00', 'isolated_today_contact_with_confirmed': 5916, 'isolated_today_abroad': 2007, 'new_contact_with_confirmed': 585, 'new_from_abroad': 48}, {'_id': 46, 'date': '2020-04-15T00:00:00', 'isolated_today_contact_with_confirmed': 5551, 'isolated_today_abroad': 1889, 'new_contact_with_confirmed': 572, 'new_from_abroad': 36}, {'_id': 47, 'date': '2020-04-16T00:00:00', 'isolated_today_contact_with_confirmed': 5644, 'isolated_today_abroad': 1784, 'new_contact_with_confirmed': 954, 'new_from_abroad': 42}, {'_id': 48, 'date': '2020-04-17T00:00:00', 'isolated_today_contact_with_confirmed': 5418, 'isolated_today_abroad': 1373, 'new_contact_with_confirmed': 582, 'new_from_abroad': 59}, {'_id': 49, 'date': '2020-04-18T00:00:00', 'isolated_today_contact_with_confirmed': 5425, 'isolated_today_abroad': 1287, 'new_contact_with_confirmed': 440, 'new_from_abroad': 70}, {'_id': 50, 'date': '2020-04-19T00:00:00', 'isolated_today_contact_with_confirmed': 5892, 'isolated_today_abroad': 1221, 'new_contact_with_confirmed': 815, 'new_from_abroad': 44}, {'_id': 51, 'date': '2020-04-20T00:00:00', 'isolated_today_contact_with_confirmed': 5746, 'isolated_today_abroad': 1073, 'new_contact_with_confirmed': 706, 'new_from_abroad': 54}]\n"
     ]
    },
    {
     "name": "stdout",
     "output_type": "stream",
     "text": [
      "[]\n",
      "[]\n",
      "[]\n",
      "[]\n",
      "[]\n",
      "[]\n",
      "[]\n",
      "[]\n",
      "[]\n",
      "[]\n",
      "[]\n",
      "[]\n",
      "[]\n",
      "[]\n",
      "[]\n",
      "[]\n",
      "[]\n",
      "[]\n",
      "[]\n",
      "[]\n",
      "[]\n",
      "[]\n",
      "[]\n",
      "[]\n",
      "[]\n",
      "[]\n",
      "[]\n",
      "[]\n"
     ]
    }
   ],
   "source": [
    "import requests\n",
    "from tqdm.notebook import tqdm\n",
    "import pandas as pd\n",
    "df = None\n",
    "\n",
    "# download data\n",
    "BASE_URL = \"https://data.gov.il\"\n",
    "\n",
    "start_offset=0\n",
    "end_offset=5000\n",
    "\n",
    "data = { 'result': \n",
    "            { \n",
    "                '_links' : {\n",
    "                   \"next\": \"/api/action/datastore_search?resource_id=9eedd26c-019b-433a-b28b-efcc98de378d\"\n",
    "                }\n",
    "            }\n",
    "       }\n",
    "\n",
    "pbar = tqdm()\n",
    "while 'next' in data['result']['_links'].keys():\n",
    "    res = requests.get(BASE_URL + data['result']['_links']['next'])\n",
    "    data = res.json()\n",
    "    offset = data['result'].get('offset', 0)\n",
    "    pbar.update(data['result']['total'])\n",
    "    print(data['result']['records'])\n",
    "    if offset >= end_offset:\n",
    "        break\n",
    "    if df is None:\n",
    "        df =  pd.DataFrame(data['result']['records'])\n",
    "    else:\n",
    "        df = pd.concat([df, pd.DataFrame(data['result']['records'])], ignore_index=True)\n",
    "        \n",
    "pbar.close()\n",
    "\n",
    "\n",
    "# show some data and graph it\n",
    "import matplotlib.pyplot as plt\n",
    "\n",
    "print(df)\n",
    "df['date'] = pd.to_datetime(df['date'], infer_datetime_format=True)\n",
    "fig, ax = plt.subplots(figsize=(12, 5))\n",
    "\n",
    "ax.plot('date', 'isolated_today_contact_with_confirmed', label='Isolated Today cause Contant',  data=df)\n",
    "ax.plot('date', 'new_contact_with_confirmed', label='New Contact',  data=df)\n",
    "ax.legend(loc='best')\n"
   ]
  },
  {
   "cell_type": "code",
   "execution_count": null,
   "metadata": {},
   "outputs": [],
   "source": []
  }
 ],
 "metadata": {
  "kernelspec": {
   "display_name": "Python 3",
   "language": "python",
   "name": "python3"
  },
  "language_info": {
   "codemirror_mode": {
    "name": "ipython",
    "version": 3
   },
   "file_extension": ".py",
   "mimetype": "text/x-python",
   "name": "python",
   "nbconvert_exporter": "python",
   "pygments_lexer": "ipython3",
   "version": "3.7.5"
  }
 },
 "nbformat": 4,
 "nbformat_minor": 4
}
